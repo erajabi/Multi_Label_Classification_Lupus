{
 "cells": [
  {
   "cell_type": "markdown",
   "metadata": {},
   "source": [
    "###### Dataset Preparation"
   ]
  },
  {
   "cell_type": "code",
   "execution_count": 1,
   "metadata": {},
   "outputs": [],
   "source": [
    "import numpy as np #linear algebra\n",
    "import pandas as pd #data processing, CSV file I/O (e.g. pd.read_csv)\n",
    "import neattext as nt #importing neattext module and aliasing it as 'nt'\n",
    "import neattext.functions as nfx #importing nfx module from nettext.function\n",
    "from sklearn.model_selection import train_test_split #Used to split dataset into test and training"
   ]
  },
  {
   "cell_type": "markdown",
   "metadata": {},
   "source": [
    "######  cleaning dataset"
   ]
  },
  {
   "cell_type": "code",
   "execution_count": 2,
   "metadata": {},
   "outputs": [],
   "source": [
    "\n",
    "# Importing the dataset\n",
    "lupus_dataset = pd.read_excel('lupus_articles_Final_05_15.xlsx')\n",
    "\n",
    "#Merging first columns and creating a new column named Text.\n",
    "lupus_dataset['text'] = lupus_dataset['title'] + \" \" + lupus_dataset['keywords'] \\\n",
    "                        + \" \" + lupus_dataset['abstract'] + \" \" + lupus_dataset['mesh_terms']\n",
    "\n",
    "#Converting datatype of new column into string\n",
    "lupus_dataset['text'] = lupus_dataset['text'].astype(str)\n",
    "\n",
    "#Deleting extra columns after merging into a new column\n",
    "lupus_dataset.drop(['Unnamed: 17', 'Unnamed: 18',\n",
    "       'Unnamed: 19', 'Unnamed: 20', 'Unnamed: 21', 'Unnamed: 22',\n",
    "       'Unnamed: 23', 'Unnamed: 24', 'Unnamed: 25', 'Unnamed: 26',\n",
    "       'Unnamed: 27', 'Unnamed: 28', 'Unnamed: 29', 'Unnamed: 30',\n",
    "       'Unnamed: 31', 'Unnamed: 32', 'Unnamed: 33', 'Unnamed: 34',\n",
    "       'Unnamed: 35', 'Unnamed: 36', 'Unnamed: 37', 'Unnamed: 38',\n",
    "       'Unnamed: 39', 'Unnamed: 40', 'Unnamed: 41', 'Unnamed: 42',\n",
    "       'Unnamed: 43', 'Unnamed: 44', 'Unnamed: 45', 'Unnamed: 46',\n",
    "        'type','title','keywords','abstract','mesh_terms'], axis=1, inplace=True)\n",
    "# Replacing empty with zeros, cleaning dataset to change the type of some columns\n",
    "target_variables = ['treatment','diagnosis','outcome','symptome','etiology','epidemiologic',\n",
    "                    'orginal_article','metanalysis_systematic_review',\n",
    "                    'case_report','letter_short_common','review','not_categorised']\n",
    "\n",
    "for item in target_variables:\n",
    "    lupus_dataset[item].replace(' ', 0, inplace=True)\n",
    "    lupus_dataset[item].replace('', 0, inplace=True)\n",
    "    lupus_dataset[item] = lupus_dataset[item].fillna(0)\n",
    "\n",
    "# Droping \"Not Categorized rows\"\n",
    "lupus_dataset = lupus_dataset[lupus_dataset['not_categorised'] == 0]\n",
    "\n",
    "target_variables.remove('not_categorised')\n",
    "lupus_dataset[target_variables] = lupus_dataset[target_variables].astype(int)\n",
    "\n",
    "#cleaning text column using nettext library and assigning cleaned data back to same columns\n",
    "lupus_dataset['text'] = lupus_dataset['text'].apply(nfx.remove_stopwords) \n",
    "\n",
    "# Creating a new variable 'y' and assiging all the output columns to it\n",
    "y = lupus_dataset[target_variables]"
   ]
  },
  {
   "cell_type": "code",
   "execution_count": null,
   "metadata": {},
   "outputs": [],
   "source": []
  }
 ],
 "metadata": {
  "kernelspec": {
   "display_name": "Python 3",
   "language": "python",
   "name": "python3"
  },
  "language_info": {
   "codemirror_mode": {
    "name": "ipython",
    "version": 3
   },
   "file_extension": ".py",
   "mimetype": "text/x-python",
   "name": "python",
   "nbconvert_exporter": "python",
   "pygments_lexer": "ipython3",
   "version": "3.7.3"
  }
 },
 "nbformat": 4,
 "nbformat_minor": 4
}
